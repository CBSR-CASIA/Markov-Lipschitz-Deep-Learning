{
 "nbformat": 4,
 "nbformat_minor": 2,
 "metadata": {
  "language_info": {
   "name": "python",
   "codemirror_mode": {
    "name": "ipython",
    "version": 3
   },
   "version": "3.7.6-final"
  },
  "orig_nbformat": 2,
  "file_extension": ".py",
  "mimetype": "text/x-python",
  "name": "python",
  "npconvert_exporter": "python",
  "pygments_lexer": "ipython3",
  "version": 3,
  "kernelspec": {
   "name": "python3",
   "display_name": "Python 3"
  }
 },
 "cells": [
  {
   "cell_type": "code",
   "execution_count": 19,
   "metadata": {},
   "outputs": [
    {
     "output_type": "stream",
     "name": "stdout",
     "text": "(98, 1000)\n"
    }
   ],
   "source": []
  },
  {
   "cell_type": "code",
   "execution_count": 8,
   "metadata": {},
   "outputs": [],
   "source": [
    "\n",
    "import numpy as np\n",
    "import plotly.graph_objects as go\n",
    "import datetime\n",
    "import numpy as np\n",
    "\n",
    "for i in range(11):\n",
    "    data = np.loadtxt('/Users/zelinzang_cairi/Project/gnn_mae/pic/sphere/Neighbor0test'+str(i)+'.csv', dtype=int, delimiter=',')\n",
    "\n",
    "    base = datetime.datetime.today()\n",
    "    dates = base - np.arange(180) * datetime.timedelta(days=1)\n",
    "    # z = np.random.poisson(size=(len(programmers), len(dates)))\n",
    "\n",
    "    fig = go.Figure(data=go.Heatmap(\n",
    "            z=data,\n",
    "            x=[str(i)+'th' for i in range(data.shape[1]) ],\n",
    "            y=['epoch'+str(i*10) for i in range(data.shape[0]) ],\n",
    "            colorscale='Viridis'))\n",
    "\n",
    "    fig.update_layout(\n",
    "        title='the'+ str(i) + ' point in train dateset',\n",
    "        xaxis_nticks=36)\n",
    "\n",
    "    fig.write_image(\"test\"+str(i)+\".png\")"
   ]
  },
  {
   "cell_type": "code",
   "execution_count": 9,
   "metadata": {},
   "outputs": [],
   "source": [
    "import numpy as np\n",
    "import plotly.graph_objects as go\n",
    "import datetime\n",
    "import numpy as np\n",
    "\n",
    "for i in range(11):\n",
    "    data = np.loadtxt('/Users/zelinzang_cairi/Project/gnn_mae/pic/sphere/Neighbortrain'+str(i)+'.csv', dtype=int, delimiter=',')\n",
    "\n",
    "    base = datetime.datetime.today()\n",
    "    dates = base - np.arange(180) * datetime.timedelta(days=1)\n",
    "    # z = np.random.poisson(size=(len(programmers), len(dates)))\n",
    "\n",
    "    fig = go.Figure(data=go.Heatmap(\n",
    "            z=data,\n",
    "            x=[str(i)+'th' for i in range(data.shape[1]) ],\n",
    "            y=['epoch'+str(i*10) for i in range(data.shape[0]) ],\n",
    "            colorscale='Viridis'))\n",
    "\n",
    "    fig.update_layout(\n",
    "        title='the'+ str(i) + ' point in test dateset',\n",
    "        xaxis_nticks=36)\n",
    "\n",
    "    # fig.show()\n",
    "    fig.write_image(\"train\"+str(i)+\".png\")"
   ]
  },
  {
   "cell_type": "code",
   "execution_count": null,
   "metadata": {},
   "outputs": [],
   "source": []
  }
 ]
}